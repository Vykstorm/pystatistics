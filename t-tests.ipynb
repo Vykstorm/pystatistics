{
 "cells": [
  {
   "cell_type": "code",
   "execution_count": 182,
   "metadata": {},
   "outputs": [],
   "source": [
    "import numpy as np\n",
    "import pandas as pd\n",
    "import matplotlib.pyplot as plt\n",
    "from scipy.stats import ttest_ind, ttest_1samp, ttest_rel\n",
    "from matplotlib import collections  as mc\n",
    "\n",
    "%matplotlib inline"
   ]
  },
  {
   "cell_type": "markdown",
   "metadata": {},
   "source": [
    "## Unpaired t-test (Independent samples t-test)"
   ]
  },
  {
   "cell_type": "markdown",
   "metadata": {},
   "source": [
    "We are going to compare two samples (A and B) and test if they have statistically equal mean by the given level of significance $\\alpha$=0.05"
   ]
  },
  {
   "cell_type": "markdown",
   "metadata": {},
   "source": [
    "$H_0 : \\mu_0 = \\mu_1$ <br/>\n",
    "$H_1 : \\mu_0 \\neq \\mu_1$"
   ]
  },
  {
   "cell_type": "markdown",
   "metadata": {},
   "source": [
    "We will make the next assumptions:\n",
    "- Samples are indendent\n",
    "- Samples are normally distributed\n",
    "- Samples have equal variance <br/>\n",
    "$A \\approx N(\\mu_0, \\sigma)$ <br/>\n",
    "$B \\approx N(\\mu_1, \\sigma)$"
   ]
  },
  {
   "cell_type": "markdown",
   "metadata": {},
   "source": [
    "Also $\\sigma$ is unknown. Use z-test otherwise"
   ]
  },
  {
   "cell_type": "code",
   "execution_count": 164,
   "metadata": {},
   "outputs": [],
   "source": [
    "alpha = 0.05\n",
    "A = np.array([1,2,2,3,3,4,4,5,5,6])\n",
    "B = np.array([1,2,4,5,5,5,6,6,7,9])"
   ]
  },
  {
   "cell_type": "code",
   "execution_count": 43,
   "metadata": {},
   "outputs": [
    {
     "data": {
      "image/png": "[encoded data removed]",
      "text/plain": [
       "<Figure size 432x288 with 1 Axes>"
      ]
     },
     "metadata": {
      "needs_background": "light"
     },
     "output_type": "display_data"
    }
   ],
   "source": [
    "x = np.arange(0, len(A))\n",
    "plt.scatter(x, A, color='red')\n",
    "plt.scatter(x, B, color='blue');\n",
    "plt.legend(['A', 'B'])\n",
    "plt.title('Samples');"
   ]
  },
  {
   "cell_type": "markdown",
   "metadata": {},
   "source": [
    "We execute the test and compute the t-value and its corresponding p-value using the scipy.stats module. Its a double tailed test; It calculates the p-value as $2 * P(T > |t|)$"
   ]
  },
  {
   "cell_type": "code",
   "execution_count": 109,
   "metadata": {},
   "outputs": [
    {
     "name": "stdout",
     "output_type": "stream",
     "text": [
      "t-value is: -3.5157\n",
      "p-value is: 0.0005\n"
     ]
    }
   ],
   "source": [
    "result = ttest_ind(A, B, equal_var=True)\n",
    "t, p = result.statistic, result.pvalue\n",
    "\n",
    "print('t-value is: {}'.format(round(t, 4)))\n",
    "print('p-value is: {}'.format(round(p, 4)))"
   ]
  },
  {
   "cell_type": "markdown",
   "metadata": {},
   "source": [
    "Our null hypothesis $H_0$ will be accepted if the t-value falls inside the confident interval. <br/>\n",
    "Its the same as checking if p > $\\alpha$ <br/>\n",
    "If it's not the case, we reject the null hypothesis"
   ]
  },
  {
   "cell_type": "code",
   "execution_count": 26,
   "metadata": {},
   "outputs": [
    {
     "name": "stdout",
     "output_type": "stream",
     "text": [
      "Null hypothesis accepted. Samples are statistically independent with a 95.0% confident interval\n"
     ]
    }
   ],
   "source": [
    "if p > alpha:\n",
    "    print('Null hypothesis accepted. Samples are statistically independent with a ' +\n",
    "          '{}% confident interval'.format((1 - alpha)*100))\n",
    "else:\n",
    "    print('Null hypothesis rejected. Samples are statistically dependent with a ' +\n",
    "          '{}% confident interval'.format((1 - alpha)*100))"
   ]
  },
  {
   "cell_type": "markdown",
   "metadata": {},
   "source": [
    "## One sample t-test"
   ]
  },
  {
   "cell_type": "markdown",
   "metadata": {},
   "source": [
    "Now we are interested in comparing statistically the known mean of our population with our sample mean "
   ]
  },
  {
   "cell_type": "markdown",
   "metadata": {},
   "source": [
    "Again we will make the assumption that our sample X is distributed normally <br/>\n",
    "$X \\approx N(\\mu_x, \\sigma_x)$"
   ]
  },
  {
   "cell_type": "code",
   "execution_count": 100,
   "metadata": {},
   "outputs": [],
   "source": [
    "X = np.random.randn(200) * 2 + 3\n",
    "mu, mux = 2.45, X.mean()\n",
    "\n",
    "alpha = 0.05"
   ]
  },
  {
   "cell_type": "code",
   "execution_count": 101,
   "metadata": {},
   "outputs": [
    {
     "data": {
      "image/png": "[encoded data removed]",
      "text/plain": [
       "<Figure size 504x288 with 1 Axes>"
      ]
     },
     "metadata": {
      "needs_background": "light"
     },
     "output_type": "display_data"
    }
   ],
   "source": [
    "plt.figure(figsize=(7, 4))\n",
    "plt.hist(X, bins=20, color='blue', rwidth=0.8, density=True);\n",
    "plt.vlines([mu], ymin=0, ymax=0.5, linestyles='--', linewidth=3, color='red')\n",
    "plt.vlines([mux], ymin=0, ymax=0.5, linestyles='--', linewidth=3, color='green')\n",
    "plt.ylim([0, 0.3])\n",
    "plt.legend(['$\\mu$', '$\\mu_x$', 'X']);"
   ]
  },
  {
   "cell_type": "markdown",
   "metadata": {},
   "source": [
    "We know our population mean $\\mu$ but variance $\\sigma$ is unknown"
   ]
  },
  {
   "cell_type": "markdown",
   "metadata": {},
   "source": [
    "$H_0 : \\mu_x = \\mu$ <br/>\n",
    "$H_1 : \\mu_x \\neq \\mu$"
   ]
  },
  {
   "cell_type": "markdown",
   "metadata": {},
   "source": [
    "Compute t-value and p-value using ttest_1samp function from scipy.stats module. Its again a double tailed test; p-value is $2 * P(T > |t|)$"
   ]
  },
  {
   "cell_type": "code",
   "execution_count": 102,
   "metadata": {},
   "outputs": [],
   "source": [
    "result = ttest_1samp(X, mu)\n",
    "t, p = result.statistic, result.pvalue"
   ]
  },
  {
   "cell_type": "code",
   "execution_count": 110,
   "metadata": {},
   "outputs": [
    {
     "name": "stdout",
     "output_type": "stream",
     "text": [
      "t-value is: -3.5157\n",
      "p-value is: 0.0005\n"
     ]
    }
   ],
   "source": [
    "print('t-value is: {}'.format(round(t, 4)))\n",
    "print('p-value is: {}'.format(round(p, 4)))"
   ]
  },
  {
   "cell_type": "markdown",
   "metadata": {},
   "source": [
    "Compare p-value with significance level <br/>\n",
    "Accept null hypothesis if p > $\\alpha$"
   ]
  },
  {
   "cell_type": "code",
   "execution_count": 111,
   "metadata": {},
   "outputs": [
    {
     "name": "stdout",
     "output_type": "stream",
     "text": [
      "Null hypothesis rejected. Population mean is statistically different to the sample mean with a 95.0% confident interval\n"
     ]
    }
   ],
   "source": [
    "if p > alpha:\n",
    "    print('Null hypothesis accepted. Population mean is statistically equal ' +\n",
    "          'to the sample mean with a {}% confident interval'.format((1 - alpha)*100))\n",
    "else:\n",
    "    print('Null hypothesis rejected. Population mean is statistically different ' +\n",
    "          'to the sample mean with a {}% confident interval'.format((1 - alpha)*100))"
   ]
  },
  {
   "cell_type": "markdown",
   "metadata": {},
   "source": [
    "## Paired t-test (dependent samples t-test)"
   ]
  },
  {
   "cell_type": "markdown",
   "metadata": {},
   "source": [
    "The last test is the dependent samples t-test, where the null hypothesis is that the mean of the differences of two samples A, B are 0. <br/>\n",
    "A, B samples are usually set of observations of the same kind or entity at different time steps or moments (each set has an obervation on each time step)"
   ]
  },
  {
   "cell_type": "markdown",
   "metadata": {},
   "source": [
    "$H_0 : \\sum_{i=1}^{N} |A_i - B_i| = 0$ <br/>\n",
    "$H_1 : \\sum_{i=1}^{N} |A_i - B_i| \\neq 0$ <br/>\n",
    "where N is the sample size"
   ]
  },
  {
   "cell_type": "markdown",
   "metadata": {},
   "source": [
    "We will make the assumption that the sample differences are normally distributed.\n",
    "$X = \\{|A_i - B_i| \\forall i, 1<=i<=N \\}$ <br/>\n",
    "$X \\approx N(\\mu_x, \\sigma_x)$ <br/>\n",
    "Also the obvservations on each sample must be independent to each other"
   ]
  },
  {
   "cell_type": "markdown",
   "metadata": {},
   "source": [
    "We are going to compare the results of the califications of 20 students before and after cursing a subject"
   ]
  },
  {
   "cell_type": "code",
   "execution_count": 205,
   "metadata": {},
   "outputs": [],
   "source": [
    "before = [18, 21, 16, 22, 19, 24, 17, 21, 23, 18, 14, 16, 16, 19, 18, 20, 12, 22, 15, 17]\n",
    "after = [22, 25, 17, 24, 16, 29, 20, 23, 19, 20, 15, 15, 18, 26, 18, 24, 18, 25, 19, 16]\n",
    "before, after = np.array(before), np.array(after)\n",
    "differences = np.abs(before - after)\n",
    "n = len(before)\n",
    "x = np.arange(0, n)"
   ]
  },
  {
   "cell_type": "code",
   "execution_count": 203,
   "metadata": {},
   "outputs": [
    {
     "data": {
      "image/png": "[encoded data removed]",
      "text/plain": [
       "<Figure size 504x288 with 1 Axes>"
      ]
     },
     "metadata": {
      "needs_background": "light"
     },
     "output_type": "display_data"
    }
   ],
   "source": [
    "plt.figure(figsize=(7, 4))\n",
    "\n",
    "lines = mc.LineCollection(\n",
    "    list(zip(np.stack([x, before], axis=1), np.stack([x, after], axis=1))),\n",
    "    linewidths=1, colors='black')\n",
    "plt.gca().add_collection(lines)\n",
    "\n",
    "plt.scatter(x, before, color='red')\n",
    "plt.scatter(x, after, color='blue')\n",
    "\n",
    "plt.title('Samples')\n",
    "plt.legend(['Differences', 'Before', 'After'])\n",
    "plt.xticks(x);\n",
    "plt.xlabel('Student')\n",
    "plt.ylabel('Calification');"
   ]
  },
  {
   "cell_type": "code",
   "execution_count": 216,
   "metadata": {},
   "outputs": [
    {
     "data": {
      "image/png": "[encoded data removed]",
      "text/plain": [
       "<Figure size 432x288 with 1 Axes>"
      ]
     },
     "metadata": {
      "needs_background": "light"
     },
     "output_type": "display_data"
    }
   ],
   "source": [
    "plt.hist(differences, bins=8, rwidth=0.9, color='blue', alpha=0.9);\n",
    "plt.title('Sample differences histogram');"
   ]
  },
  {
   "cell_type": "markdown",
   "metadata": {},
   "source": [
    "We can use ttest_rel on scipy.stats compute the t-value and p-value"
   ]
  },
  {
   "cell_type": "code",
   "execution_count": 219,
   "metadata": {},
   "outputs": [
    {
     "name": "stdout",
     "output_type": "stream",
     "text": [
      "t-value is: -3.2313\n",
      "p-value is: 0.0044\n"
     ]
    }
   ],
   "source": [
    "result = ttest_rel(before, after)\n",
    "t, p = result.statistic, result.pvalue\n",
    "print('t-value is: {}'.format(round(t, 4)))\n",
    "print('p-value is: {}'.format(round(p, 4)))"
   ]
  },
  {
   "cell_type": "markdown",
   "metadata": {},
   "source": [
    "Now compare p-value with $\\alpha$ <br/>\n",
    "Accept null hypotesis if p-value > $\\alpha$"
   ]
  },
  {
   "cell_type": "code",
   "execution_count": 223,
   "metadata": {},
   "outputs": [
    {
     "name": "stdout",
     "output_type": "stream",
     "text": [
      "Null hypothesis rejected:The students califications have statistically been improved after the course with a 95.0% confident interval\n"
     ]
    }
   ],
   "source": [
    "alpha = 0.05\n",
    "if p > alpha:\n",
    "    print('Null hypothesis accepted:' + \n",
    "          'The students califications are statistically equal before and after the course ' +\n",
    "          'with a {}% confident interval'.format( (1 - alpha) * 100 ))\n",
    "else:\n",
    "    print('Null hypothesis rejected:' + \n",
    "          'The students califications have statistically been improved after the course ' +\n",
    "          'with a {}% confident interval'.format( (1 - alpha) * 100 ))"
   ]
  },
  {
   "cell_type": "code",
   "execution_count": null,
   "metadata": {},
   "outputs": [],
   "source": []
  }
 ],
 "metadata": {
  "kernelspec": {
   "display_name": "Python 3",
   "language": "python",
   "name": "python3"
  },
  "language_info": {
   "codemirror_mode": {
    "name": "ipython",
    "version": 3
   },
   "file_extension": ".py",
   "mimetype": "text/x-python",
   "name": "python",
   "nbconvert_exporter": "python",
   "pygments_lexer": "ipython3",
   "version": "3.6.8"
  }
 },
 "nbformat": 4,
 "nbformat_minor": 2
}
