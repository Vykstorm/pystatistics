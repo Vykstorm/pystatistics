{
 "cells": [
  {
   "cell_type": "code",
   "execution_count": 3,
   "metadata": {},
   "outputs": [],
   "source": [
    "import numpy as np\n",
    "import matplotlib.pyplot as plt\n",
    "from scipy.stats import norm\n",
    "\n",
    "%matplotlib inline"
   ]
  },
  {
   "cell_type": "markdown",
   "metadata": {},
   "source": [
    "## Two tailed z-test"
   ]
  },
  {
   "cell_type": "markdown",
   "metadata": {},
   "source": [
    "Here we want to test if the population mean is equal to $\\mu_0$"
   ]
  },
  {
   "cell_type": "markdown",
   "metadata": {},
   "source": [
    "$\n",
    "\\left\\{\n",
    "\\begin{array}{ll}\n",
    "  H_0 : \\mu = \\mu_0 \\\\\n",
    "  H_1 : \\mu \\neq \\mu_0\n",
    "\\end{array}\n",
    "\\right.\n",
    "$"
   ]
  },
  {
   "cell_type": "markdown",
   "metadata": {},
   "source": [
    "Suppose we need to check if the age of a certain population is by mean 30 years. <br/>\n",
    "We assume that population ages are normally distributed and have variance 20. <br/>\n",
    "Our sample has size 10 and mean 27 years <br/>"
   ]
  },
  {
   "cell_type": "markdown",
   "metadata": {},
   "source": [
    "$\n",
    "\\left\\{\n",
    "\\begin{array}{ll}\n",
    "  H_0 : \\mu = 30 \\\\\n",
    "  H_1 : \\mu \\neq 30\n",
    "\\end{array}\n",
    "\\right.\n",
    "$"
   ]
  },
  {
   "cell_type": "markdown",
   "metadata": {},
   "source": [
    "First compute the z-value: <br/>\n",
    "$$\n",
    "\\frac{\\mu_x - \\mu_0}{s}\n",
    "$$ <br/>\n",
    "where n is the sample size, $\\mu_x$ is the sample mean (27) and s is the sample typical deviation <br/>\n",
    "s can be estimated using the population variance\n",
    "$$\n",
    "s^2 = \\frac{\\sigma^2}{n} => s = \\sqrt{\\frac{\\sigma^2}{n}}\n",
    "$$"
   ]
  },
  {
   "cell_type": "markdown",
   "metadata": {},
   "source": [
    "$$\n",
    "z = \\frac{\\mu_x - \\mu_0}{\\sqrt{\\frac{\\sigma^2}{n}}}\n",
    "$$"
   ]
  },
  {
   "cell_type": "code",
   "execution_count": 85,
   "metadata": {},
   "outputs": [],
   "source": [
    "z = (27 - 30) / np.sqrt(20 / 10)\n",
    "z = np.abs(z)"
   ]
  },
  {
   "cell_type": "code",
   "execution_count": 86,
   "metadata": {},
   "outputs": [
    {
     "name": "stdout",
     "output_type": "stream",
     "text": [
      "z-value is:  2.1213\n"
     ]
    }
   ],
   "source": [
    "print('z-value is: ', np.abs(z).round(4))"
   ]
  },
  {
   "cell_type": "markdown",
   "metadata": {},
   "source": [
    "And the next step is to compute the p-value. <br/>\n",
    "$p = 2 * P[X > |z|] = 2 * (1 - P[X < |z|]) = 2 * (1 - \\phi(|z|))$ <br/>\n",
    "where \\phi is the cumulative distribution function (cdf) from the standard normal distribution <br/>\n",
    "Note the factor 2 in the formula. This is because the test is two-tailed"
   ]
  },
  {
   "cell_type": "code",
   "execution_count": 88,
   "metadata": {},
   "outputs": [
    {
     "name": "stdout",
     "output_type": "stream",
     "text": [
      "p-value is: 0.0339\n"
     ]
    }
   ],
   "source": [
    "p = 2 * (1 - norm.cdf(z))\n",
    "print('p-value is:', np.round(p, 4))"
   ]
  },
  {
   "cell_type": "markdown",
   "metadata": {},
   "source": [
    "Now we only need to compare the p-value with the level of significance ($\\alpha$). <br/>\n",
    "If p-value > $\\alpha$ then we accept the null hypothesis. Otherwise its rejected"
   ]
  },
  {
   "cell_type": "code",
   "execution_count": 89,
   "metadata": {},
   "outputs": [
    {
     "name": "stdout",
     "output_type": "stream",
     "text": [
      "Null hypothesis rejected\n",
      "We can conclude that statistically the population mean age is different than 30 with a confident interval of 95.0%\n"
     ]
    }
   ],
   "source": [
    "alpha = 0.05\n",
    "if p > alpha:\n",
    "    print('Null hypothesis accepted')\n",
    "    print('We can conclude that statistically the population mean age is equal to 30 '+\n",
    "          'with a confident interval of {}%'.format((1 - alpha) * 100))\n",
    "else:\n",
    "    print('Null hypothesis rejected')\n",
    "    print('We can conclude that statistically the population mean age is different than 30 '+\n",
    "          'with a confident interval of {}%'.format((1 - alpha) * 100))"
   ]
  },
  {
   "cell_type": "code",
   "execution_count": 133,
   "metadata": {},
   "outputs": [
    {
     "data": {
      "image/png": "[encoded data removed]",
      "text/plain": [
       "<Figure size 576x360 with 1 Axes>"
      ]
     },
     "metadata": {
      "needs_background": "light"
     },
     "output_type": "display_data"
    }
   ],
   "source": [
    "plt.figure(figsize=(8, 5))\n",
    "x = np.linspace(-3, 3, 150)\n",
    "y = norm.pdf(x)\n",
    "\n",
    "xl, xr = np.concatenate((x[x <= -z], [-z])), np.concatenate(([z], x[x >= z]))\n",
    "xm = x[(x > -z) & (x < z)]\n",
    "yl, yr, ym = norm.pdf(xl), norm.pdf(xr), norm.pdf(xm)\n",
    "\n",
    "plt.fill(np.concatenate(([xm[0]], xm, [xm[-1]])), np.concatenate(([y.min()], ym, [y.min()])),\n",
    "         color='blue', alpha=0.15, label='_nolegend_')\n",
    "\n",
    "plt.fill(np.concatenate((xl, [xl[-1]])), np.concatenate((yl, [y.min()])),\n",
    "        color='blue', alpha=0.7)\n",
    "\n",
    "plt.fill(np.concatenate(([xr[0]], xr)), np.concatenate(([y.min()], yr)),\n",
    "        color='blue', alpha=0.7, label='_nolegend_')\n",
    "\n",
    "plt.plot(x, y, linewidth=2, color='blue', alpha=0.7)\n",
    "plt.vlines([norm.ppf(1 - alpha), norm.ppf(alpha)],\n",
    "           ymin=0, ymax=1, linewidth=2, linestyles='--', color='red')\n",
    "\n",
    "\n",
    "plt.ylim([0, 0.45])\n",
    "plt.legend(['pdf', 'p-value', 'critical values ($\\\\alpha$=0.05)'])\n",
    "plt.title('Critical values & p-values');"
   ]
  },
  {
   "cell_type": "markdown",
   "metadata": {},
   "source": [
    "## One tailed z-test"
   ]
  },
  {
   "cell_type": "markdown",
   "metadata": {},
   "source": [
    "Continuing the example above, now we want to test if the population age mean is lower than 25 years. <br/>\n",
    "This time we will use a one-tailed z-test "
   ]
  },
  {
   "cell_type": "markdown",
   "metadata": {},
   "source": [
    "$\n",
    "\\left\\{\n",
    "\\begin{array}{ll}\n",
    "  H_0 : \\mu = \\mu_0 \\\\\n",
    "  H_1 : \\mu < \\mu_0\n",
    "\\end{array}\n",
    "\\right.\n",
    "$"
   ]
  },
  {
   "cell_type": "markdown",
   "metadata": {},
   "source": [
    "The null hypothesis is the same; It states that the mean is 25. But the alternative hypothesis will indicate if true that mean age is under 25"
   ]
  },
  {
   "cell_type": "markdown",
   "metadata": {},
   "source": [
    "The z-value is calculated as in the two-tailed test"
   ]
  },
  {
   "cell_type": "code",
   "execution_count": 142,
   "metadata": {},
   "outputs": [
    {
     "name": "stdout",
     "output_type": "stream",
     "text": [
      "z-value is:  1.414213562373095\n"
     ]
    }
   ],
   "source": [
    "z = (27 - 25) / np.sqrt(20 / 10)\n",
    "z = np.abs(z)\n",
    "print('z-value is: ', z)"
   ]
  },
  {
   "cell_type": "markdown",
   "metadata": {},
   "source": [
    "But now p-value is: <br/>\n",
    "$p = P[X > |z|] = 1 - P[X < |z|] = 1 - \\phi(|z|)$"
   ]
  },
  {
   "cell_type": "code",
   "execution_count": 146,
   "metadata": {},
   "outputs": [
    {
     "data": {
      "text/plain": [
       "0.07864960352514261"
      ]
     },
     "execution_count": 146,
     "metadata": {},
     "output_type": "execute_result"
    }
   ],
   "source": [
    "p = 1 - norm.cdf(z)\n",
    "p"
   ]
  },
  {
   "cell_type": "markdown",
   "metadata": {},
   "source": [
    "And again compre $\\alpha$ with the p-value"
   ]
  },
  {
   "cell_type": "code",
   "execution_count": 148,
   "metadata": {},
   "outputs": [
    {
     "name": "stdout",
     "output_type": "stream",
     "text": [
      "Null hypothesis accepted\n",
      "We cant assume statistically that population age mean is lower than 25 years with a confident interval of 95.0%\n"
     ]
    }
   ],
   "source": [
    "if p > alpha:\n",
    "    print('Null hypothesis accepted')\n",
    "    print('We cant assume statistically that population age mean is lower than ' +\n",
    "         '25 years with a confident interval of {}%'.format((1 - alpha) * 100))\n",
    "else:\n",
    "    print('Null hypothesis rejected')\n",
    "    print('We can say statistically that population age mean is lower than 25 years ' +\n",
    "         'with a confident interval of {}%'.format((1 - alpha) * 100))"
   ]
  },
  {
   "cell_type": "code",
   "execution_count": 154,
   "metadata": {},
   "outputs": [
    {
     "data": {
      "image/png": "[encoded data removed]",
      "text/plain": [
       "<Figure size 576x360 with 1 Axes>"
      ]
     },
     "metadata": {
      "needs_background": "light"
     },
     "output_type": "display_data"
    }
   ],
   "source": [
    "plt.figure(figsize=(8, 5))\n",
    "x = np.linspace(-3, 3, 150)\n",
    "y = norm.pdf(x)\n",
    "\n",
    "xl, xr = np.concatenate((x[x <= z], [z])), np.concatenate(([z], x[x >= z]))\n",
    "yl, yr = norm.pdf(xl), norm.pdf(xr)\n",
    "\n",
    "plt.fill(np.concatenate((xl, [xl[-1]])), np.concatenate((yl, [y.min()])),\n",
    "         color='blue', alpha=0.15, label='_nolegend_')\n",
    "\n",
    "plt.fill(np.concatenate(([xr[0]], xr)), np.concatenate(([y.min()], yr)),\n",
    "        color='blue', alpha=0.7)\n",
    "\n",
    "plt.plot(x, y, linewidth=2, color='blue', alpha=0.7)\n",
    "plt.vlines([1 - norm.ppf(alpha)],\n",
    "           ymin=0, ymax=1, linewidth=2, linestyles='--', color='red')\n",
    "\n",
    "plt.ylim([0, 0.45])\n",
    "plt.legend(['pdf', 'p-value', 'critical value ($\\\\alpha$=0.05)'])\n",
    "plt.title('Critical values & p-values');"
   ]
  },
  {
   "cell_type": "code",
   "execution_count": null,
   "metadata": {},
   "outputs": [],
   "source": []
  }
 ],
 "metadata": {
  "kernelspec": {
   "display_name": "Python 3",
   "language": "python",
   "name": "python3"
  },
  "language_info": {
   "codemirror_mode": {
    "name": "ipython",
    "version": 3
   },
   "file_extension": ".py",
   "mimetype": "text/x-python",
   "name": "python",
   "nbconvert_exporter": "python",
   "pygments_lexer": "ipython3",
   "version": "3.6.8"
  }
 },
 "nbformat": 4,
 "nbformat_minor": 2
}
