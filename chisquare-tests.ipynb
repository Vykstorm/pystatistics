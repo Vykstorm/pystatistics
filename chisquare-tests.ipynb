{
 "cells": [
  {
   "cell_type": "code",
   "execution_count": 49,
   "metadata": {},
   "outputs": [],
   "source": [
    "import numpy as np\n",
    "import pandas as pd\n",
    "import seaborn as sns\n",
    "import matplotlib.pyplot as plt\n",
    "from matplotlib.cm import get_cmap\n",
    "from itertools import cycle\n",
    "from scipy.stats import chi2"
   ]
  },
  {
   "cell_type": "code",
   "execution_count": 4,
   "metadata": {},
   "outputs": [],
   "source": [
    "cmap = get_cmap('cool')\n",
    "colors = cycle(cmap(np.random.permutation(np.linspace(0, 1, 10))))"
   ]
  },
  {
   "cell_type": "markdown",
   "metadata": {},
   "source": [
    "The next data comes from <b>Michael D. Smith, “Sociodemo-graphic risk factors in wife abuse: Results from a survey of Toronto women,”</b> <br/>\n",
    "More info here: http://uregina.ca/~gingrich/ch10.pdf"
   ]
  },
  {
   "cell_type": "code",
   "execution_count": 8,
   "metadata": {},
   "outputs": [
    {
     "data": {
      "text/html": [
       "<div>\n",
       "<style scoped>\n",
       "    .dataframe tbody tr th:only-of-type {\n",
       "        vertical-align: middle;\n",
       "    }\n",
       "\n",
       "    .dataframe tbody tr th {\n",
       "        vertical-align: top;\n",
       "    }\n",
       "\n",
       "    .dataframe thead th {\n",
       "        text-align: right;\n",
       "    }\n",
       "</style>\n",
       "<table border=\"1\" class=\"dataframe\">\n",
       "  <thead>\n",
       "    <tr style=\"text-align: right;\">\n",
       "      <th></th>\n",
       "      <th>age</th>\n",
       "      <th>count-in-sample</th>\n",
       "      <th>percent-in-census</th>\n",
       "    </tr>\n",
       "  </thead>\n",
       "  <tbody>\n",
       "    <tr>\n",
       "      <th>0</th>\n",
       "      <td>20-24</td>\n",
       "      <td>103</td>\n",
       "      <td>18</td>\n",
       "    </tr>\n",
       "    <tr>\n",
       "      <th>1</th>\n",
       "      <td>25-34</td>\n",
       "      <td>216</td>\n",
       "      <td>50</td>\n",
       "    </tr>\n",
       "    <tr>\n",
       "      <th>2</th>\n",
       "      <td>35-44</td>\n",
       "      <td>171</td>\n",
       "      <td>32</td>\n",
       "    </tr>\n",
       "  </tbody>\n",
       "</table>\n",
       "</div>"
      ],
      "text/plain": [
       "     age  count-in-sample  percent-in-census\n",
       "0  20-24              103                 18\n",
       "1  25-34              216                 50\n",
       "2  35-44              171                 32"
      ]
     },
     "execution_count": 8,
     "metadata": {},
     "output_type": "execute_result"
    }
   ],
   "source": [
    "data = pd.DataFrame.from_dict({\n",
    "    'age': ['20-24', '25-34', '35-44'],\n",
    "    'count-in-sample': [103, 216, 171],\n",
    "    'percent-in-census': [18, 50, 32]\n",
    "})\n",
    "data"
   ]
  },
  {
   "cell_type": "markdown",
   "metadata": {},
   "source": [
    "We have a sample of ages of 490 woman that lives in Toronto (age between 20 & 44). <br/> But this data is categorical: we divide ages in 3 groups (20-24, 25-34, 35-44) <br/>\n",
    "We also know the percentage of women in the census of Toronto on each group (only for those whose age is between 20 & 44)"
   ]
  },
  {
   "cell_type": "markdown",
   "metadata": {},
   "source": [
    "Our task is to test if our sample is a good representation of woman's age distribution in Toronto <br/>\n",
    "We will make a chi-square goodness of fit test comparing the obvserved values (our sample), and the expected values (the census) <br/>"
   ]
  },
  {
   "cell_type": "code",
   "execution_count": 18,
   "metadata": {},
   "outputs": [
    {
     "data": {
      "text/html": [
       "<div>\n",
       "<style scoped>\n",
       "    .dataframe tbody tr th:only-of-type {\n",
       "        vertical-align: middle;\n",
       "    }\n",
       "\n",
       "    .dataframe tbody tr th {\n",
       "        vertical-align: top;\n",
       "    }\n",
       "\n",
       "    .dataframe thead th {\n",
       "        text-align: right;\n",
       "    }\n",
       "</style>\n",
       "<table border=\"1\" class=\"dataframe\">\n",
       "  <thead>\n",
       "    <tr style=\"text-align: right;\">\n",
       "      <th></th>\n",
       "      <th>age</th>\n",
       "      <th>expected</th>\n",
       "      <th>obvserved</th>\n",
       "    </tr>\n",
       "  </thead>\n",
       "  <tbody>\n",
       "    <tr>\n",
       "      <th>0</th>\n",
       "      <td>20-24</td>\n",
       "      <td>88.2</td>\n",
       "      <td>103</td>\n",
       "    </tr>\n",
       "    <tr>\n",
       "      <th>1</th>\n",
       "      <td>25-34</td>\n",
       "      <td>245.0</td>\n",
       "      <td>216</td>\n",
       "    </tr>\n",
       "    <tr>\n",
       "      <th>2</th>\n",
       "      <td>35-44</td>\n",
       "      <td>156.8</td>\n",
       "      <td>171</td>\n",
       "    </tr>\n",
       "  </tbody>\n",
       "</table>\n",
       "</div>"
      ],
      "text/plain": [
       "     age  expected  obvserved\n",
       "0  20-24      88.2        103\n",
       "1  25-34     245.0        216\n",
       "2  35-44     156.8        171"
      ]
     },
     "execution_count": 18,
     "metadata": {},
     "output_type": "execute_result"
    }
   ],
   "source": [
    "obvserved = data['count-in-sample']\n",
    "expected = data['percent-in-census'] / 100 * obvserved.sum()\n",
    "\n",
    "pd.DataFrame.from_dict(dict(age=data['age'], expected=expected, obvserved=obvserved))"
   ]
  },
  {
   "cell_type": "markdown",
   "metadata": {},
   "source": [
    "Now we calculate the chi-square statistic using the formula: <br/>\n",
    "$$\\chi^2 = \\sum_{i=1}^n \\frac{(E_i - O_i)^2}{E_i}$$ <br/>\n",
    "where $n$ is the number of categories (3)"
   ]
  },
  {
   "cell_type": "code",
   "execution_count": 28,
   "metadata": {},
   "outputs": [
    {
     "data": {
      "text/plain": [
       "7.202069160997729"
      ]
     },
     "execution_count": 28,
     "metadata": {},
     "output_type": "execute_result"
    }
   ],
   "source": [
    "statistic = ((expected - obvserved) ** 2 / expected).sum()\n",
    "statistic"
   ]
  },
  {
   "cell_type": "markdown",
   "metadata": {},
   "source": [
    "The null hypothesis states that the expected values are the same as the obversed ones: <br/>\n",
    "$H_0 : E_i = O_i$ <br/>\n",
    "$H_1 : E_i \\neq O_i$"
   ]
  },
  {
   "cell_type": "markdown",
   "metadata": {},
   "source": [
    "To decide if accept or reject the null hypothesis, we need calculate first the confident interval by setting the level of significance ($\\alpha$) <br/>\n",
    "The confident internal will be $[0, l]$ where $P(\\chi_k^2 >= l) = 1 - P(\\chi_k^2 <= l)  = \\alpha$ <br/> where k is the number of freedom degrees (number of categories minus 1 in this case ) <br/>"
   ]
  },
  {
   "cell_type": "code",
   "execution_count": 38,
   "metadata": {},
   "outputs": [
    {
     "name": "stdout",
     "output_type": "stream",
     "text": [
      "Confident interval: 95.0%\n",
      "Critical value is: 5.991464547107979\n"
     ]
    }
   ],
   "source": [
    "alpha = 0.05\n",
    "\n",
    "k = len(obvserved) - 1\n",
    "l = chi2.ppf(1 - alpha, k)\n",
    "print('Confident interval: {}%'.format((1 - alpha) * 100))\n",
    "print('Critical value is: {}'.format(l))"
   ]
  },
  {
   "cell_type": "markdown",
   "metadata": {},
   "source": [
    "We will reject the null hypothesis if our calculated statistic $\\chi^2$ is greater than the critical value $l$"
   ]
  },
  {
   "cell_type": "code",
   "execution_count": 40,
   "metadata": {},
   "outputs": [
    {
     "name": "stdout",
     "output_type": "stream",
     "text": [
      "Null hypothesis rejected. Our sample doesnt represent statistically woman's age population in Toronto\n"
     ]
    }
   ],
   "source": [
    "if statistic <= l:\n",
    "    print('Null hypothesis accepted. Our sample is statistically representative ' +\n",
    "          'of the woman\\'s age population in Toronto')\n",
    "else:\n",
    "    print('Null hypothesis rejected. Our sample doesnt represent statistically ' +\n",
    "          'woman\\'s age population in Toronto')"
   ]
  },
  {
   "cell_type": "markdown",
   "metadata": {},
   "source": [
    "We could also compare $\\alpha$ and the p-value <br/>\n",
    "If p-value >= $\\alpha$ we accept the null hypothesis <br/>"
   ]
  },
  {
   "cell_type": "code",
   "execution_count": 53,
   "metadata": {},
   "outputs": [
    {
     "name": "stdout",
     "output_type": "stream",
     "text": [
      "Null hypothesis rejected...\n"
     ]
    }
   ],
   "source": [
    "p = 1 - chi2.cdf(statistic, k)\n",
    "if p >= alpha:\n",
    "    print('Null hypothesis accepted...')\n",
    "else:\n",
    "    print('Null hypothesis rejected...')"
   ]
  },
  {
   "cell_type": "code",
   "execution_count": null,
   "metadata": {},
   "outputs": [],
   "source": []
  }
 ],
 "metadata": {
  "kernelspec": {
   "display_name": "Python 3",
   "language": "python",
   "name": "python3"
  },
  "language_info": {
   "codemirror_mode": {
    "name": "ipython",
    "version": 3
   },
   "file_extension": ".py",
   "mimetype": "text/x-python",
   "name": "python",
   "nbconvert_exporter": "python",
   "pygments_lexer": "ipython3",
   "version": "3.6.8"
  }
 },
 "nbformat": 4,
 "nbformat_minor": 2
}
